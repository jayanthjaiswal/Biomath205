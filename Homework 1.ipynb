{
 "cells": [
  {
   "cell_type": "markdown",
   "metadata": {},
   "source": [
    "# Chapter 1\n",
    "\n",
    "## Problem 7\n",
    "\n",
    "Consider the quadratic equation $ax^2 + bx + c = 0$. \n",
    "The number of roots of this equation will be 2 by Fundamental Theorem of Algebra.\n",
    "Let those roots be $\\alpha$ and $\\beta$.\n",
    "\n",
    "So, this equation can be represented in terms of its factors based on Factor Theorem for Polynomials.\n",
    "\n",
    "Hence, $ax^2 + bx + c = p(x - \\alpha)(x - \\beta)$.\n",
    "\n",
    "Expanding RHS,\n",
    "\n",
    "$ax^2 + bx + c = px^2 - p(\\alpha + \\beta)x + p\\alpha\\beta$.\n",
    "\n",
    "Now comparing the coefficients on both sides,\n",
    "\n",
    "Coefficient of $x^2, a = p$.\n",
    "\n",
    "Coefficient of $x^1, b = - p(\\alpha + \\beta)$.\n",
    "\n",
    "Coefficient of $x^0, c = p(\\alpha\\beta).$\n",
    "\n",
    "So, product of roots = $\\alpha\\beta = c/p = c/a$.\n",
    "\n",
    "$QED.$"
   ]
  },
  {
   "cell_type": "markdown",
   "metadata": {},
   "source": [
    "## Problem 10"
   ]
  },
  {
   "cell_type": "code",
   "execution_count": 32,
   "metadata": {},
   "outputs": [
    {
     "data": {
      "text/plain": [
       "eratosthenes (generic function with 1 method)"
      ]
     },
     "execution_count": 32,
     "metadata": {},
     "output_type": "execute_result"
    }
   ],
   "source": [
    "function eratosthenes(n::Int)\n",
    "    isprime = ones(Bool, n)\n",
    "    isprime[1] = false\n",
    "    for i = 2:round(Int, sqrt(n))\n",
    "        if isprime[i]\n",
    "            for j = i^2:i:n\n",
    "                isprime[j] = false\n",
    "            end\n",
    "        end\n",
    "    end\n",
    "    return filter(x -> isprime[x], 1:n)\n",
    "end"
   ]
  },
  {
   "cell_type": "code",
   "execution_count": 33,
   "metadata": {},
   "outputs": [
    {
     "data": {
      "text/plain": [
       "countPrimeList (generic function with 1 method)"
      ]
     },
     "execution_count": 33,
     "metadata": {},
     "output_type": "execute_result"
    }
   ],
   "source": [
    "function countPrimeList(n::Int)\n",
    "    primes = eratosthenes(n)\n",
    "    primecount = zeros(Int, n)\n",
    "    primecount[1] = 0\n",
    "    j = 1\n",
    "    for i = 2:n\n",
    "        primecount[i]=primecount[i-1]\n",
    "        if j<=length(primes) && primes[j] == i\n",
    "            j=j+1\n",
    "            primecount[i]=primecount[i]+1\n",
    "        end\n",
    "    end\n",
    "    return primecount\n",
    "end"
   ]
  },
  {
   "cell_type": "code",
   "execution_count": 34,
   "metadata": {},
   "outputs": [
    {
     "data": {
      "text/plain": [
       "primeDist (generic function with 1 method)"
      ]
     },
     "execution_count": 34,
     "metadata": {},
     "output_type": "execute_result"
    }
   ],
   "source": [
    "function primeDist(n::Int)\n",
    "    primecount = countPrimeList(n)\n",
    "    primedistlist = zeros(BigFloat, n)\n",
    "    primedistlist[1] = 0\n",
    "    for i = 2:n\n",
    "        primedistlist[i] = (primecount[i]*log(1.0 * i))/(1.0 * i)\n",
    "    end\n",
    "    return primedistlist\n",
    "end"
   ]
  },
  {
   "cell_type": "code",
   "execution_count": 35,
   "metadata": {},
   "outputs": [
    {
     "data": {
      "text/html": [
       "<img src=\"data:image/png;base64,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\" />"
      ]
     },
     "execution_count": 35,
     "metadata": {},
     "output_type": "execute_result"
    }
   ],
   "source": [
    "using Plots\n",
    "x = 1:1000000\n",
    "z = ones(Int, 1000000)\n",
    "plot(primeDist(1000000), color=\"blue\")\n",
    "plot!(x,z, color=\"red\")"
   ]
  },
  {
   "cell_type": "markdown",
   "metadata": {},
   "source": [
    "In the above graph, $y1 = \\frac{\\pi(n)ln(n)}{n}$ and $y2=1$. The convergence is very slow as evident from graph."
   ]
  },
  {
   "cell_type": "markdown",
   "metadata": {},
   "source": [
    "# Chapter 2\n",
    "## Problem 4"
   ]
  },
  {
   "cell_type": "code",
   "execution_count": 8,
   "metadata": {},
   "outputs": [
    {
     "data": {
      "text/plain": [
       "closest (generic function with 2 methods)"
      ]
     },
     "execution_count": 8,
     "metadata": {},
     "output_type": "execute_result"
    }
   ],
   "source": [
    "function closest{T<:Number}(a::Vector{T}, c::T)\n",
    "    n = length(a)\n",
    "    i = 1\n",
    "    j = n\n",
    "    s = (a[1],a[n])\n",
    "    past = a[1] + a[n]\n",
    "    while (i<=j)\n",
    "        curr = a[i]+a[j]\n",
    "        if(abs(c - curr) < abs(c - past))\n",
    "            past = curr\n",
    "            s = (a[i], a[j])\n",
    "        end    \n",
    "        if(curr<c)\n",
    "            i=i+1\n",
    "        elseif(curr>c)\n",
    "            j=j-1\n",
    "        else\n",
    "            s=(a[i],a[j])\n",
    "            break\n",
    "        end    \n",
    "    end\n",
    "    return s\n",
    "end"
   ]
  },
  {
   "cell_type": "code",
   "execution_count": 15,
   "metadata": {},
   "outputs": [
    {
     "data": {
      "text/plain": [
       "(1, 5)"
      ]
     },
     "execution_count": 15,
     "metadata": {},
     "output_type": "execute_result"
    }
   ],
   "source": [
    "closest([1,2,3,4,5,6,7], 6)"
   ]
  },
  {
   "cell_type": "markdown",
   "metadata": {},
   "source": [
    "# Problem 5"
   ]
  },
  {
   "cell_type": "code",
   "execution_count": 1,
   "metadata": {},
   "outputs": [
    {
     "data": {
      "text/plain": [
       "merge (generic function with 1 method)"
      ]
     },
     "execution_count": 1,
     "metadata": {},
     "output_type": "execute_result"
    }
   ],
   "source": [
    "function merge(a::Vector, b::Vector)\n",
    "    an = length(a)\n",
    "    bn = length(b)\n",
    "    i = 1\n",
    "    j = 1\n",
    "    c = []\n",
    "    while (i<=an && j<=bn)\n",
    "        if(a[i]<=b[j])\n",
    "            push!(c,a[i])\n",
    "            i=i+1\n",
    "        else\n",
    "            push!(c,b[j])\n",
    "            j=j+1\n",
    "        end    \n",
    "    end\n",
    "    while (i<=an)\n",
    "        push!(c,a[i])\n",
    "        i=i+1\n",
    "    end\n",
    "    while (j<=bn)\n",
    "        push!(c,b[j])\n",
    "        j=j+1\n",
    "    end\n",
    "    return c\n",
    "end"
   ]
  },
  {
   "cell_type": "code",
   "execution_count": 16,
   "metadata": {},
   "outputs": [
    {
     "data": {
      "text/plain": [
       "8-element Array{Any,1}:\n",
       " 1\n",
       " 1\n",
       " 2\n",
       " 3\n",
       " 3\n",
       " 4\n",
       " 5\n",
       " 7"
      ]
     },
     "execution_count": 16,
     "metadata": {},
     "output_type": "execute_result"
    }
   ],
   "source": [
    "merge([1,2,3,5,7],[1,3,4])"
   ]
  },
  {
   "cell_type": "markdown",
   "metadata": {},
   "source": [
    "# Error in the book"
   ]
  },
  {
   "cell_type": "markdown",
   "metadata": {},
   "source": [
    "## Incomplete Problem Statement\n",
    "\n",
    "Consider the problem number 6 from Chapter 2.\n",
    "\n",
    "Two entries $x_i$ and $x_j$ of a numerical sequence $x = (x_1, . . . , x_n)$ represent\n",
    "an inversion if $x_i > x_j$ . Write an efficient Julia function to count the\n",
    "number of inversions in x.\n",
    "\n",
    "The problem missed the condition on i and j, i.e. \n",
    "Two entries $x_i$ and $x_j$ of a numerical sequence $x = (x_1, . . . , x_n)$ represent\n",
    "an inversion if $x_i > x_j$, when $i < j$."
   ]
  }
 ],
 "metadata": {
  "kernelspec": {
   "display_name": "Julia 0.6.0",
   "language": "julia",
   "name": "julia-0.6"
  },
  "language_info": {
   "file_extension": ".jl",
   "mimetype": "application/julia",
   "name": "julia",
   "version": "0.6.0"
  }
 },
 "nbformat": 4,
 "nbformat_minor": 2
}
