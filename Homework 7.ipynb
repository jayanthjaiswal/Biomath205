{
 "cells": [
  {
   "cell_type": "markdown",
   "metadata": {},
   "source": [
    "# Chapter 8\n",
    "\n",
    "## Problem 1\n",
    "\n",
    "In a majorization-minimization algorithm with objective function $f(x)$\n",
    "and surrogate function $g(x | x_n)$, show that the sequence $g(x_{n+1} | x_n)$\n",
    "decreases."
   ]
  },
  {
   "cell_type": "markdown",
   "metadata": {},
   "source": [
    "Proof :\n",
    "\n",
    "In minimization, the MM principle majorizes the objective function $f(x)$ by a surrogate function $g(x | x_n)$ anchored at the current iterate $x_n$. Majorization combines two conditions: the tangency\n",
    "condition $g(x_n | x_n) = f(x_n)$ and the domination condition $g(x | x_n) \\geq f(x)$ for\n",
    "all x. The next iterate of the MM algorithm by definition minimizes the function $x \\to g(x | x_n)$.\n",
    "\n",
    "By domination condition,\n",
    "\n",
    "$g(x | x_n) \\geq f(x) \\forall x$\n",
    "\n",
    "$ \\implies g(x_{n+1} | x_n) \\geq f(x_{n+1})$\n",
    "\n",
    "Since, the next iterate $x_{n+1}$ minimizes $x \\to g(x | x_n)$, \n",
    "\n",
    "$ \\implies g(x_{n} | x_n) \\geq g(x_{n+1} | x_n)$\n",
    "\n",
    "By tangency condition,\n",
    "\n",
    "$g(x_{n} | x_{n}) = f(x_{n})$\n",
    "\n",
    "$ \\implies f(x_{n}) = g(x_{n} | x_n) \\geq g(x_{n+1} | x_n) \\geq f(x_{n+1})$\n",
    "\n",
    "Similarly without loss of generality putting $n+1$ in above equation,\n",
    "\n",
    "$ \\implies f(x_{n+1}) = g(x_{n+1} | x_{n+1}) \\geq g(x_{n+2} | x_{n+1}) \\geq f(x_{n+2})$\n",
    "\n",
    "Combining both the above equation,\n",
    "\n",
    "$ \\implies f(x_{n}) = g(x_{n} | x_n) \\geq g(x_{n+1} | x_n) \\geq f(x_{n+1}) = g(x_{n+1} | x_{n+1}) \\geq g(x_{n+2} | x_{n+1}) \\geq f(x_{n+2})$\n",
    "\n",
    "$ \\implies g(x_{n+1} | x_{n}) \\geq g(x_{n+2} | x_{n+1}) $\n",
    "\n",
    "Hence, the sequence  $g(x_{n+1}|x_n)$ is decreasing sequence.\n",
    "\n",
    "$QED$."
   ]
  },
  {
   "cell_type": "markdown",
   "metadata": {},
   "source": [
    "## Problem 6\n",
    "\n",
    "Prove:\n",
    "\n",
    "$(x + y - z)^2 \\leq -(x_n + y_n - z_n)^2 + 2(x_n + y_n - z_n)(x + y - z) +3[(x - x_n)^2 + (y - y_n)^2 + (z - z_n)^2]$"
   ]
  },
  {
   "cell_type": "markdown",
   "metadata": {},
   "source": [
    "Proof:\n",
    "\n",
    "$(x + y - z)^2 \\leq -(x_n + y_n - z_n)^2 + 2(x_n + y_n - z_n)(x + y - z) +3[(x - x_n)^2 + (y - y_n)^2 + (z - z_n)^2]$\n",
    "\n",
    "$ \\implies (x + y - z)^2 + (x_n + y_n - z_n)^2 - 2(x_n + y_n - z_n)(x + y - z) \\leq 3[(x - x_n)^2 + (y - y_n)^2 + (z - z_n)^2]$\n",
    "\n",
    "$ \\implies [(x + y - z) - (x_n + y_n - z_n)]^2 \\leq 3[(x - x_n)^2 + (y - y_n)^2 + (z - z_n)^2]$\n",
    "\n",
    "$ \\implies [(x - x_n) + (y - y_n) - (z - z_n)]^2 \\leq 3[(x - x_n)^2 + (y - y_n)^2 + (z - z_n)^2]$\n",
    "\n",
    "$ \\implies [\\frac{(x - x_n) + (y - y_n) - (z - z_n)}{3}]^2 \\leq \\frac{[(x - x_n)^2 + (y - y_n)^2 + (z - z_n)^2]}{3}$\n",
    "\n",
    "Let, $a = (x - x_n)$, $b = (y - y_n)$ and $c = -(z - z_n)$.\n",
    "\n",
    "Then, \n",
    "\n",
    "$ [\\frac{(x - x_n) + (y - y_n) - (z - z_n)}{3}]^2 \\leq \\frac{[(x - x_n)^2 + (y - y_n)^2 + (z - z_n)^2]}{3} $\n",
    "\n",
    "$ \\implies (\\frac{a + b + c}{3})^2 \\leq \\frac{(a^2 + b^2 + c^2)}{3}$, [Can also be proved by convexity of $x^2$, i.e. Jenson's inequality over mean of 3 variables (a,b,c) on $f(x) = x^2$]\n",
    "\n",
    "$ \\implies (a + b + c)^2 \\leq 3(a^2 + b^2 + c^2)$\n",
    "\n",
    "$ \\implies (a^2 + b^2 + c^2 + 2ab + 2bc + 2ca) \\leq 3(a^2 + b^2 + c^2)$\n",
    "\n",
    "$ \\implies 0 \\leq 2a^2 + 2b^2 + 2c^2 - 2ab - 2bc - 2ca$\n",
    "\n",
    "$ \\implies 0 \\leq (a^2 + b^2 - 2ab) + (b^2 + c^2 - 2bc) + (c^2 + a^2 - 2ca)$\n",
    "\n",
    "$ \\implies 0 \\leq (a-b)^2 + (b-c)^2 + (c-a)^2$\n",
    "\n",
    "$QED$."
   ]
  },
  {
   "cell_type": "markdown",
   "metadata": {},
   "source": [
    "## Problem 8\n",
    "\n",
    "For the function $f(x) = ln(1 + e^x)$, derive the majorization\n",
    "$f(x) \\leq f(x_n) + f'(x_n)(x - x_n) + \\frac{1}{8}(x - x_n)^2$\n",
    "by the quadratic upper bound principle."
   ]
  },
  {
   "cell_type": "markdown",
   "metadata": {},
   "source": [
    "Proof:\n",
    "\n",
    "The quadratic upper bound principle can be motivated analytically from the second-order Taylor expansion\n",
    "$f(x) = f(x_n) + f'(x_n)(x - x_n) + \\frac{1}{2}(x - x_n)f''(y)(x - x_n)$, where $y \\in (x,x_n)$.\n",
    "\n",
    "For $f(x) = ln(1+e^x)$,\n",
    "\n",
    "$f'(x) = \\frac{e^x}{1 + e^x}$\n",
    "\n",
    "and $f''(x) = \\frac{e^x}{(1 + e^x)^2}$.\n",
    "\n",
    "$f''(x) = \\frac{e^x}{(1 + e^x)^2} \\leq \\frac{1}{4} \\forall x$.\n",
    "\n",
    "as, $4 e^x \\leq (1 + e^x)^2$ \n",
    "\n",
    "as, $0 \\leq (1 + e^{2x} + 2e^x) - 4e^x$ \n",
    "\n",
    "as, $0 \\leq (1 - e^x)^2$.\n",
    "\n",
    "Hence,\n",
    "\n",
    "$f(x) = f(x_n) + f'(x_n)(x - x_n) + \\frac{1}{2}(x - x_n)f''(y)(x - x_n) \\leq f(x_n) + f'(x_n)(x - x_n) + \\frac{1}{2}(x - x_n)(\\frac{1}{4})(x - x_n)$ as, $f''(y) = \\frac{e^y}{(1 + e^y)^2} \\leq \\frac{1}{4} \\forall y$\n",
    "\n",
    "$\\implies f(x) \\leq f(x_n) + f'(x_n)(x - x_n) + \\frac{1}{8}(x - x_n)^2$\n",
    "\n",
    "$QED$."
   ]
  },
  {
   "cell_type": "markdown",
   "metadata": {},
   "source": [
    "## Problem 9\n",
    "\n",
    "Prove:\n",
    "\n",
    "$xy \\leq \\frac{1}{2} (x^2 + y^2) + \\frac{1}{2} (x_n - y_n)^2 - (x_n - y_n)(x - y)$\n",
    "\n",
    "$-xy \\leq \\frac{1}{2} (x^2 + y^2) + \\frac{1}{2} (x_n + y_n)^2 - (x_n + y_n)(x + y)$"
   ]
  },
  {
   "cell_type": "markdown",
   "metadata": {},
   "source": [
    "Proof: \n",
    "\n",
    "Consider 1st inequality,\n",
    "\n",
    "$xy \\leq \\frac{1}{2} (x^2 + y^2) + \\frac{1}{2} (x_n - y_n)^2 - (x_n - y_n)(x - y)$\n",
    "\n",
    "$\\implies 2xy \\leq (x^2 + y^2) + (x_n - y_n)^2 - 2(x_n - y_n)(x - y)$\n",
    "\n",
    "$\\implies 0 \\leq (x^2 + y^2 - 2xy) + (x_n - y_n)^2 - 2(x_n - y_n)(x - y)$\n",
    "\n",
    "$\\implies 0 \\leq (x - y)^2 + (x_n - y_n)^2 - 2(x_n - y_n)(x - y)$\n",
    "\n",
    "$\\implies 0 \\leq [(x - y) - (x_n - y_n)]^2$\n",
    "\n",
    "$\\implies 0 \\leq (x - x_n - y + y_n)^2$\n",
    "\n",
    "$QED$.\n",
    "\n",
    "Consider the 2nd inequality,\n",
    "\n",
    "$-xy \\leq \\frac{1}{2} (x^2 + y^2) + \\frac{1}{2} (x_n + y_n)^2 - (x_n + y_n)(x + y)$\n",
    "\n",
    "$\\implies -2xy \\leq (x^2 + y^2) + (x_n + y_n)^2 - 2(x_n + y_n)(x + y)$\n",
    "\n",
    "$\\implies 0 \\leq (x^2 + y^2 + 2xy) + (x_n + y_n)^2 - 2(x_n + y_n)(x + y)$\n",
    "\n",
    "$\\implies 0 \\leq (x + y)^2 + (x_n + y_n)^2 - 2(x_n + y_n)(x + y)$\n",
    "\n",
    "$\\implies 0 \\leq [(x + y) - (x_n + y_n)]^2$\n",
    "\n",
    "$\\implies 0 \\leq (x - x_n + y - y_n)^2$\n",
    "\n",
    "$QED$."
   ]
  }
 ],
 "metadata": {
  "kernelspec": {
   "display_name": "Julia 0.6.0",
   "language": "julia",
   "name": "julia-0.6"
  },
  "language_info": {
   "file_extension": ".jl",
   "mimetype": "application/julia",
   "name": "julia",
   "version": "0.6.0"
  }
 },
 "nbformat": 4,
 "nbformat_minor": 2
}
