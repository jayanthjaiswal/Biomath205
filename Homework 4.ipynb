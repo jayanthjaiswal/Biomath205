{
 "cells": [
  {
   "cell_type": "markdown",
   "metadata": {},
   "source": [
    "# Chapter 5\n",
    "\n",
    "## Problem 1\n",
    "\n",
    "Consider the problem, where we want to get the value of the Golden ratio, $\\phi$.\n",
    "\n",
    "The minimal polynomial, whose root is Golden ratio is $f(x) = x^2 - x - 1$.\n",
    "\n",
    "Here is a Julia implementation of Newton's method in one dimension applied to the polynomial $f(x) = x^2 - x - 1$ with derivative $f'(x) = 2x - 1$."
   ]
  },
  {
   "cell_type": "code",
   "execution_count": 6,
   "metadata": {},
   "outputs": [
    {
     "data": {
      "text/plain": [
       "newton (generic function with 1 method)"
      ]
     },
     "execution_count": 6,
     "metadata": {},
     "output_type": "execute_result"
    }
   ],
   "source": [
    "function newton(f::Function, fp::Function, x::Real, tol::Real)\n",
    "    (xold, xnew) = (x, Inf)\n",
    "    for iteration = 1:100\n",
    "        xnew = xold - f(xold) / fp(xold)\n",
    "        if abs(f(xnew)) < tol\n",
    "            return (xnew, iteration)\n",
    "        end\n",
    "        xold = xnew\n",
    "    end\n",
    "    return (xnew, 100)\n",
    "end"
   ]
  },
  {
   "cell_type": "code",
   "execution_count": 7,
   "metadata": {},
   "outputs": [
    {
     "data": {
      "text/plain": [
       "f (generic function with 1 method)"
      ]
     },
     "execution_count": 7,
     "metadata": {},
     "output_type": "execute_result"
    }
   ],
   "source": [
    "f(x) = x^2 - x - 1.0"
   ]
  },
  {
   "cell_type": "code",
   "execution_count": 8,
   "metadata": {},
   "outputs": [
    {
     "data": {
      "text/plain": [
       "fp (generic function with 1 method)"
      ]
     },
     "execution_count": 8,
     "metadata": {},
     "output_type": "execute_result"
    }
   ],
   "source": [
    "fp(x) = 2x - 1.0"
   ]
  },
  {
   "cell_type": "code",
   "execution_count": 9,
   "metadata": {},
   "outputs": [
    {
     "data": {
      "text/plain": [
       "(1.618033988749895, 6)"
      ]
     },
     "execution_count": 9,
     "metadata": {},
     "output_type": "execute_result"
    }
   ],
   "source": [
    "(phi, iterations) = newton(f, fp, 1.0, 1e-14)"
   ]
  },
  {
   "cell_type": "code",
   "execution_count": 10,
   "metadata": {},
   "outputs": [
    {
     "data": {
      "text/plain": [
       "0.0"
      ]
     },
     "execution_count": 10,
     "metadata": {},
     "output_type": "execute_result"
    }
   ],
   "source": [
    "f(phi)"
   ]
  },
  {
   "cell_type": "code",
   "execution_count": 24,
   "metadata": {},
   "outputs": [
    {
     "data": {
      "text/plain": [
       "(-0.6180339887498948, 6)"
      ]
     },
     "execution_count": 24,
     "metadata": {},
     "output_type": "execute_result"
    }
   ],
   "source": [
    "(conjugate_phi, iterations) = newton(f, fp, 0.0, 1e-14)"
   ]
  },
  {
   "cell_type": "code",
   "execution_count": 25,
   "metadata": {},
   "outputs": [
    {
     "data": {
      "text/plain": [
       "-1.1102230246251565e-16"
      ]
     },
     "execution_count": 25,
     "metadata": {},
     "output_type": "execute_result"
    }
   ],
   "source": [
    "f(conjugate_phi)"
   ]
  },
  {
   "cell_type": "markdown",
   "metadata": {},
   "source": [
    "The value of the golden ratio $\\phi$ as found by the above Julia code is 1.618033988749895 and its conjugate $\\phi'$ is -0.6180339887498948. We can check our result using the fzero function of the Julia package Roots.jl."
   ]
  },
  {
   "cell_type": "code",
   "execution_count": 13,
   "metadata": {},
   "outputs": [],
   "source": [
    "using Roots"
   ]
  },
  {
   "cell_type": "code",
   "execution_count": 18,
   "metadata": {},
   "outputs": [
    {
     "data": {
      "text/plain": [
       "1.618033988749895"
      ]
     },
     "execution_count": 18,
     "metadata": {},
     "output_type": "execute_result"
    }
   ],
   "source": [
    "phi_roots = fzero(f, 1)"
   ]
  },
  {
   "cell_type": "code",
   "execution_count": 23,
   "metadata": {},
   "outputs": [
    {
     "data": {
      "text/plain": [
       "-0.6180339887498949"
      ]
     },
     "execution_count": 23,
     "metadata": {},
     "output_type": "execute_result"
    }
   ],
   "source": [
    "conjugate_phi_roots = fzero(f, 0)"
   ]
  },
  {
   "cell_type": "code",
   "execution_count": 22,
   "metadata": {},
   "outputs": [
    {
     "data": {
      "text/plain": [
       "0.0"
      ]
     },
     "execution_count": 22,
     "metadata": {},
     "output_type": "execute_result"
    }
   ],
   "source": [
    "phi - phi_roots"
   ]
  },
  {
   "cell_type": "code",
   "execution_count": 27,
   "metadata": {},
   "outputs": [
    {
     "data": {
      "text/plain": [
       "1.1102230246251565e-16"
      ]
     },
     "execution_count": 27,
     "metadata": {},
     "output_type": "execute_result"
    }
   ],
   "source": [
    "conjugate_phi - conjugate_phi_roots"
   ]
  },
  {
   "cell_type": "markdown",
   "metadata": {},
   "source": [
    "The roots ($\\phi, \\phi'$) obtained using the fzero function from Roots.jl package is same as the ones obtained using Newton's method implementation."
   ]
  },
  {
   "cell_type": "markdown",
   "metadata": {},
   "source": [
    "## Problem 9\n",
    "\n",
    "For $y>0$, the positive root of the equation $f(x) = \\frac{1}{x^2} - y = 0$ is $\\frac{1}{\\sqrt y}$.\n",
    "\n",
    "$f(x) = \\frac{1}{x^2} - y$\n",
    "\n",
    "$f'(x) = -2x^{-3} = \\frac{-2}{x^3}$\n",
    "\n",
    "Newton's iterates for finding the roots of the above function, $f(x) = 0$ :\n",
    "\n",
    "$x_{n+1} = x_{n} - \\frac{f(x_{n})}{f'(x_{n})}$\n",
    "\n",
    "$\\implies x_{n+1} = x_{n} - \\frac{\\frac{1}{x_n^2} - y}{-2x_n^{-3}}$\n",
    "\n",
    "$\\implies x_{n+1} = x_{n} + \\frac{x_n^{3}}{2} (\\frac{1}{x_n^2} - y)$\n",
    "\n",
    "$\\implies x_{n+1} = x_{n} + \\frac{1}{2} (x_n - x_n^{3}y)$\n",
    "\n",
    "$\\implies x_{n+1} = \\frac{1}{2} (3x_n - x_n^{3}y)$\n",
    "\n",
    "$\\implies x_{n+1} = \\frac{x_n}{2} (3 - x_n^{2}y)$\n",
    "\n",
    "$QED.$\n",
    "\n",
    "Alternatively, $x = \\frac{1}{\\sqrt y}$ solves the equation $g(x) = yx^2 - 1 = 0$.\n",
    "\n",
    "$g(x) = yx^2 - 1$\n",
    "\n",
    "$g'(x) = 2yx$\n",
    "\n",
    "Newton's iterates for finding the roots of the above function, $g(x) = 0$ :\n",
    "\n",
    "$x_{n+1} = x_{n} - \\frac{g(x_{n})}{g'(x_{n})}$\n",
    "\n",
    "$\\implies x_{n+1} = x_{n} - \\frac{yx_n^2 - 1}{2yx_n}$\n",
    "\n",
    "$\\implies x_{n+1} = x_{n} - \\frac{x_{n}}{2} + \\frac{1}{2yx_n}$\n",
    "\n",
    "$\\implies x_{n+1} = \\frac{1}{2} (x_{n} + \\frac{1}{yx_n})$\n",
    "\n",
    "$QED.$\n",
    "\n",
    "The first scheme involves no reciprocals, but the second scheme has better convergence guarantees, which we prove next.\n",
    "\n",
    "Consider for the second scheme, $x_n > 0$.\n",
    "\n",
    "Using AM-GM Inequality, which states that for any two non-negative numbers a and b, the statement holds that\n",
    "\n",
    "$\\frac {a+b}{2} \\geq \\sqrt {ab}$ with equality if and only if a = b.\n",
    "\n",
    "So, let $a = x_{n}$ and $b = \\frac{1}{yx_n}$ in second scheme.\n",
    "\n",
    "As $x_n > 0$ and $y > 0$ $\\implies a>0$ and $b>0$.\n",
    "\n",
    "Applying AM-GM Inequality, we get\n",
    "\n",
    "$x_{n+1} = \\frac{1}{2} (x_{n} + \\frac{1}{yx_n}) \\geq \\sqrt {x_{n} \\frac{1}{yx_n}} $\n",
    "\n",
    "$ \\implies x_{n+1} \\geq \\frac{1}{\\sqrt y} \\forall x_n > 0 $\n",
    "\n",
    "$QED.$\n",
    "\n",
    "Consider $x_n$ such that $x_{n} \\geq \\frac{1}{\\sqrt y} > 0$.\n",
    "\n",
    "$ \\implies x^2_{n} \\geq \\frac{1}{y}$\n",
    "\n",
    "$ \\implies x_{n} \\geq \\frac{1}{yx_n}$ , as $x_n > 0$\n",
    "\n",
    "$ \\implies \\frac{x_n}{2} \\geq \\frac{1}{2yx_n}$ , dividing by 2 on both sides.\n",
    "\n",
    "$ \\implies x_n \\geq \\frac{x_n}{2} + \\frac{1}{2yx_n}$ , adding $\\frac{x_n}{2}$ on both sides.\n",
    "\n",
    "$ \\implies x_n \\geq x_{n+1}$, as $ x_{n+1} = \\frac{1}{2} (x_{n} + \\frac{1}{yx_n}) = \\frac{x_n}{2} + \\frac{1}{2yx_n}$.\n",
    "\n",
    "$QED.$\n",
    "\n",
    "Thus, $\\forall x_n > 0, x_n \\geq x_{n+1}$ and $ x_{n+1} \\geq \\frac{1}{\\sqrt y} $.\n",
    "\n",
    "So the sequence is monotonically decreasing and is lower bounded by $\\frac{1}{\\sqrt y}$ for all $x_n > 0$. Hence, if we take our initial estimate, $x_0 > 0$ , the global convergence is assured for the second scheme.\n",
    "\n",
    "$QED.$"
   ]
  }
 ],
 "metadata": {
  "kernelspec": {
   "display_name": "Julia 0.6.0",
   "language": "julia",
   "name": "julia-0.6"
  },
  "language_info": {
   "file_extension": ".jl",
   "mimetype": "application/julia",
   "name": "julia",
   "version": "0.6.0"
  }
 },
 "nbformat": 4,
 "nbformat_minor": 2
}
