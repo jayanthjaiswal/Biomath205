{
 "cells": [
  {
   "cell_type": "markdown",
   "metadata": {},
   "source": [
    "# Chapter 6\n",
    "\n",
    "## Problem 1\n",
    "\n",
    "Minimize $x_1 + x_2$, such that:\n",
    "\n",
    "$x_1 + 2x_2 \\geq 3,$ \n",
    "\n",
    "$2x_1 + x_2 \\geq 5,$ \n",
    "\n",
    "$x_2 \\geq 0 .$\n",
    "\n",
    "In this problem, there are two unknowns, and three constraints. Here, the objective function is\n",
    "$x_1 + x_2$ .\n",
    "Since there are only two variables, we can solve this problem by graphing the set\n",
    "of points in the plane that satisfies all the constraints (called the constraint set) and\n",
    "then, finding which point of this set minimizes the value of the objective function. Each\n",
    "inequality constraint is satisfied by a half-plane of points, and the constraint set is the\n",
    "intersection of all the half-planes. In the present example, the constraint set is the right-sided two cornered\n",
    "unbounded figure shaded with brown ([#B8860B](http://www.color-hex.com/color/b8860b)) in following Figure."
   ]
  },
  {
   "cell_type": "code",
   "execution_count": 82,
   "metadata": {},
   "outputs": [
    {
     "data": {
      "text/html": [
       "<img src=\"data:image/png;base64,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\" />"
      ]
     },
     "execution_count": 82,
     "metadata": {},
     "output_type": "execute_result"
    }
   ],
   "source": [
    "using ImplicitEquations, Plots\n",
    "pyplot()\n",
    "f(x,y) = x + 2y - 3\n",
    "g(x,y) = 2x + y - 5\n",
    "h(x,y) = y\n",
    "l = 4\n",
    "plot(Ge(f,0), xlab = \"x1\", ylab = \"x2\", xlims=(-l, l), ylims=(-l, l), fill = (0, 0.5, :red), xticks = -l:1.0:l, yticks = -l:1.0:l)\n",
    "plot!(Ge(g,0), xlims=(-l, l), ylims=(-l, l), fill = (0, 0.5, :blue))\n",
    "plot!(Ge(h,0), xlims=(-l, l), ylims=(-l, l), fill = (0, 0.5, :yellow))\n",
    "soln(x,y) = x + y\n",
    "plot!(Eq(soln,8.0/3.0), xlims=(-l, l), ylims=(-l, l))\n",
    "#plot!(Ge(h,0) & Ge(f,0), xlims=(-10, 10), ylims=(-10, 10))"
   ]
  },
  {
   "cell_type": "markdown",
   "metadata": {},
   "source": [
    "We seek the point $(x_1, x_2)$, that achieves the minimum of $x_1 +x_2$ as $(x_1, x_2)$ ranges\n",
    "over this constraint set. The function $x_1 + x_2$ is constant on lines with slope −1, for\n",
    "example the line $x_1 + x_2 = 10$, and as we move this line further towards the origin down and to\n",
    "the left, the value of $x_1 + x_2$ decreases. Therefore, we seek the line of slope −1 that is\n",
    "closest to the origin and still touches the constraint set. This occurs at the intersection\n",
    "of the lines $x_1 +2x_2 = 3$ and $2x_1 +x_2 = 5$, namely, $(x_1, x_2) = (7/3, 1/3)$. The value of\n",
    "the objective function there is $(7/3) + (1/3) = 8/3$."
   ]
  },
  {
   "cell_type": "code",
   "execution_count": 78,
   "metadata": {},
   "outputs": [
    {
     "data": {
      "text/plain": [
       "(2.6666666666666665, [1, 4], [0.333333, 2.33333])"
      ]
     },
     "execution_count": 78,
     "metadata": {},
     "output_type": "execute_result"
    }
   ],
   "source": [
    "function revised_simplex(A::SparseMatrixCSC{T}, b::Vector{T}, \n",
    "        c::Vector{T}, B::Vector{Int}, tol::T) where T <: Real\n",
    "    (m, n) = size(A)\n",
    "    N = setdiff(collect(1:n), B)\n",
    "    ABinv = inv(full(A[:, B]))\n",
    "    xB = ABinv * b\n",
    "    for iteration = 1:10*m\n",
    "        mu = c[N]' - (c[B]' * ABinv) * A[:, N]\n",
    "        k = indmin(mu)\n",
    "        if mu[k] > -tol # test for convergence\n",
    "            return (dot(c[B], xB), B, xB)\n",
    "        else\n",
    "            d = ABinv * A[:, N[k]] # possible update directions\n",
    "            p = find(d .> tol)\n",
    "            if isempty(p)\n",
    "                return (-Inf, nothing, nothing) # unbounded below\n",
    "            end\n",
    "            (t, i) = findmin(xB[p] ./ d[p])\n",
    "            (B[p[i]], N[k]) = (N[k], B[p[i]]) # revise vertex set\n",
    "            xB = xB - t * d\n",
    "            xB[p[i]] = t\n",
    "            v = ABinv[p[i], :] / d[p[i]] # Sherman-Morrison update\n",
    "            d[p[i]] = d[p[i]] - one(T)\n",
    "            ABinv = ABinv - d * v'\n",
    "        end\n",
    "    end\n",
    "end\n",
    "\n",
    "function simplex_program(A::SparseMatrixCSC{T}, b::Vector{T}, c::Vector{T}, tol::T) where T <: Real\n",
    "    (m, n) = size(A)\n",
    "    for i = 1:m\n",
    "        if b[i] < zero(T)\n",
    "            A[i, :] = - A[i, :]\n",
    "            b[i] = - b[i]\n",
    "        end\n",
    "    end\n",
    "    A1 = [A eye(T, m)]\n",
    "    c1 = [zeros(T, n); ones(T, m)]\n",
    "    B = collect(n + 1:m + n)\n",
    "    (cost, B, xB) = revised_simplex(A1, b, c1, B, tol)\n",
    "    if cost > tol\n",
    "        return (Inf, nothing, nothing)\n",
    "    else\n",
    "        (cost, B, xB) = revised_simplex(A, b, c, B, tol)\n",
    "        return (cost, B, xB)\n",
    "    end\n",
    "end \n",
    "\n",
    "c = [1.0 ;0; 0; 1.0; -1.0];\n",
    "A = [ -2.0 1.0 0.0 -1.0 1.0; -1.0 0.0 1.0 -2.0 2.0 ];\n",
    "b = [ -3.0; -5.0 ];\n",
    "A = sparse(A);\n",
    "tol = 1e-5;\n",
    "(cost, B, xB) = simplex_program(A, b, c, tol)"
   ]
  },
  {
   "cell_type": "markdown",
   "metadata": {},
   "source": [
    "The solution from Simplex Julia code from class is also $2.66666... (8/3)$ at values $(2.333..., 0.333...)$."
   ]
  },
  {
   "cell_type": "markdown",
   "metadata": {},
   "source": [
    "## Problem 2\n",
    "\n",
    "Maximize $x_1 + 2x_2 + 3x_3 + 4x_4 + 5$, such that:\n",
    "\n",
    "$4x_1 + 3x_2 + 2x_3 + x_4 \\leq 10, $\n",
    "\n",
    "$x_1 - x_3 + 2x_4 = 2, $ \n",
    "\n",
    "$x_1 + x_2 + x_3 + x_4 \\geq 1, $\n",
    "\n",
    "$x_1 \\geq 0, $\n",
    "\n",
    "$x_3 \\geq 0, $\n",
    "\n",
    "$x_4 \\geq 0. $\n",
    "\n",
    "In this problem, there are 4 unknowns, and 1 equality constraint and 5 inequality constraints. Here, the objective function is $x_1 + 2x_2 + 3x_3 + 4x_4 + 5$ .\n",
    "\n",
    "A linear programs can be expressed in canonical form as minimizing $f(x) = c^{*}x$, subject to $Ax = b$ and $x \\geq 0$. \n",
    "To convert the given linear program into canonical linear program representation, we need to change the objective first to minimization, i.e. minimize $-x_1 - 2x_2 - 3x_3 - 4x_4 - 5$. We can ignore the constant (-5) from the objective as it just translates the objective. Next, we need to convert linear inequality constraints to equality constraints by introducing slack variables.\n",
    "\n",
    "Here, the constraint $4x_1 + 3x_2 + 2x_3 + x_4 \\leq 10 $ can be rewritten as \n",
    "$4x_1 + 3x_2 + 2x_3 + x_4 + s_1 = 10,  s_1 \\geq 0$ by introducing the slack variable $s_1$.\n",
    "\n",
    "Here, the constraint $x_1 + x_2 + x_3 + x_4 \\geq 1 $ can be rewritten as $ - x_1 - x_2 - x_3 - x_4 \\leq -1 $, which can be again rewritten as $ - x_1 - x_2 - x_3 - x_4 + s_2 = -1,  s_2 \\geq 0$ by introducing the slack variable $s_2$.\n",
    "\n",
    "However, $x_2$ is not already constrained by $x_2 \\geq 0$, so we can introduce free variables $u \\geq 0$ and $w \\geq 0$ so that $x_2 = u - w$ and replace $x_2$ everywhere by this difference.\n",
    "\n",
    "Hence, the given linear program, finally in its canonical representation will be:\n",
    "\n",
    "Minimize $-x_1 - 2(u-w) - 3x_3 - 4x_4$ i.e. $-x_1 - 3x_3 - 4x_4 - 2u + 2w$, such that:\n",
    "\n",
    "$4x_1 + 3(u-w) + 2x_3 + x_4 + s_1 = 10, i.e. 4x_1 + 2x_3 + x_4 + s_1 + 3u - 3w = 10, $\n",
    "\n",
    "$x_1 - x_3 + 2x_4 = 2, $ \n",
    "\n",
    "$ - x_1 - (u-w) - x_3 - x_4 + s_2 = -1, i.e. - x_1 - x_3 - x_4 + s_2 -u + w = -1, $\n",
    "\n",
    "$x_1 \\geq 0, $\n",
    "\n",
    "$x_3 \\geq 0, $\n",
    "\n",
    "$x_4 \\geq 0, $\n",
    "\n",
    "$s_1 \\geq 0, $\n",
    "\n",
    "$s_2 \\geq 0, $\n",
    "\n",
    "$u \\geq 0, $\n",
    "\n",
    "$w \\geq 0. $\n",
    "\n",
    "From the above canonical representation, $x = [x_1,x_3,x_4,s_1,s_2,u,w]^{*}$ and $c = [-1,-3,-4,0,0,-2,2]^{*}$ and $b = [10, 2, -1]^{*}$, i.e.,\n",
    "\n",
    "\\begin{equation}\n",
    "x = \\begin{pmatrix} x_1 \\\\ x_3 \\\\ x_4 \\\\ s_1 \\\\ s_2 \\\\ u \\\\ w \\end{pmatrix}\n",
    "\\end{equation}\n",
    "\n",
    "\\begin{equation}\n",
    "c = \\begin{pmatrix} -1 \\\\ -3 \\\\ -4 \\\\ 0 \\\\ 0 \\\\ -2 \\\\ 2 \\end{pmatrix}\n",
    "\\end{equation}\n",
    "\n",
    "\\begin{equation}\n",
    "A = \\begin{pmatrix} 4 & 2 & 1 & 1 & 0 & 3 & -3\\\\ 1 & -1 & 2 & 0 & 0 & 0 & 0\\\\ -1 & -1 & -1 & 0 & 1 & -1 & 1 \\end{pmatrix}\n",
    "\\end{equation}\n",
    "\n",
    "\\begin{equation}\n",
    "b = \\begin{pmatrix} 10 \\\\ 2\\\\ -1 \\end{pmatrix}\n",
    "\\end{equation}\n",
    "\n",
    "To solve the above linear program, let's put it in the simplex code from the lecture.\n"
   ]
  },
  {
   "cell_type": "code",
   "execution_count": 93,
   "metadata": {},
   "outputs": [
    {
     "data": {
      "text/plain": [
       "(-Inf, nothing, nothing)"
      ]
     },
     "execution_count": 93,
     "metadata": {},
     "output_type": "execute_result"
    }
   ],
   "source": [
    "c = [-1.0; -3.0; -4.0; 0.0; 0.0; -2.0; 2.0];\n",
    "A = [ 4.0  2.0 1.0 1.0 0.0 3.0 -3.0; 1.0 -1.0 2.0 0.0 0.0 0.0 0.0; -1.0 -1.0 -1.0 0.0 1.0 -1.0 1.0];\n",
    "b = [ 10.0; 2.0; -1.0];\n",
    "A = sparse(A);\n",
    "tol = 1e-5;\n",
    "(cost, B, xB) = simplex_program(A, b, c, tol)"
   ]
  },
  {
   "cell_type": "markdown",
   "metadata": {},
   "source": [
    "The solution is unbounded below, i.e. the minimum occurs at $-\\infty$ for canonical representation and hence, the maximum occurs at $\\infty$ for original linear program."
   ]
  },
  {
   "cell_type": "markdown",
   "metadata": {},
   "source": [
    "## Problem 3\n",
    "\n",
    "Minimize $|x_1 + x_2 + x_3|$, such that:\n",
    "\n",
    "$x_1 - x_2 = 5, $\n",
    "\n",
    "$x_2 - x_3 = 7, $ \n",
    "\n",
    "$x_1 \\leq 0, $\n",
    "\n",
    "$x_3 \\geq 2. $\n",
    "\n",
    "In this problem, there are 3 unknowns, and 2 equality constraints and 2 inequality constraints. Here, the objective function is $|x_1 + x_2 + x_3|$ .\n",
    "\n",
    "A linear programs can be expressed in canonical form as minimizing $f(x) = c^{*}x$, subject to $Ax = b$ and $x \\geq 0$. \n",
    "To convert the given linear program into canonical linear program representation, we need to change the objective first to minimization, i.e. minimize $x_1 + x_2 + x_3$. To take the absolute value into account, we add the constraint $x_1 + x_2 + x_3 \\geq 0$. Next, we need to convert linear inequality constraints to equality constraints by introducing slack variables.\n",
    "\n",
    "Here, the constraint $x_1 + x_2 + x_3 \\geq 0 $ can be rewritten as \n",
    "$x_1 + x_2 + x_3 - s = 0,  s \\geq 0$ by introducing the slack variable $s$.\n",
    "\n",
    "However, $x_2$ is not already constrained by $x_2 \\geq 0$, so we can introduce free variables $u \\geq 0$ and $w \\geq 0$ so that $x_2 = u - w$ and replace $x_2$ everywhere by this difference.\n",
    "\n",
    "Here, the constraint $x_1 \\leq 0 $ can be rewritten as $y_1 = -x_1,  y_1 \\geq 0$ by variable substitution ($x_1 = -y_1$).\n",
    "\n",
    "Here, the constraint $x_3 \\geq 2 $ can be rewritten as $y_2 = x_3 - 2,  y_2 \\geq 0$ by variable substitution ($x_3 = y_2 + 2$).\n",
    "\n",
    "Hence, the given linear program, finally in its canonical representation will be:\n",
    "\n",
    "Minimize $-y_1 + u - w + y_2 + 2$, such that:\n",
    "\n",
    "$ -y_1 - u + w = 5, $\n",
    "\n",
    "$ u - w - y_2 = 9, $ \n",
    "\n",
    "$ -y_1  + u - w + y_2 - s = -2, $\n",
    "\n",
    "$y_1 \\geq 0, $\n",
    "\n",
    "$y_2 \\geq 0, $\n",
    "\n",
    "$s \\geq 0, $\n",
    "\n",
    "$u \\geq 0, $\n",
    "\n",
    "$w \\geq 0. $\n",
    "\n",
    "From the above canonical representation, $x = [y_1,y_2,s,u,w]^{*}$ and $c = [-1,1,0,1,-1]^{*}$ and $b = [5,9,-2]^{*}$, i.e.,\n",
    "\n",
    "\\begin{equation}\n",
    "x = \\begin{pmatrix} y_1 \\\\ y_2 \\\\ s \\\\ u \\\\ w \\end{pmatrix}\n",
    "\\end{equation}\n",
    "\n",
    "\\begin{equation}\n",
    "c = \\begin{pmatrix} -1 \\\\ 1 \\\\ 0 \\\\ 1 \\\\ -1 \\end{pmatrix}\n",
    "\\end{equation}\n",
    "\n",
    "\\begin{equation}\n",
    "A = \\begin{pmatrix} -1 & 0 & 0 & -1 & 1\\\\ 0 & -1 & 0 & 1 & -1\\\\ -1 & 1 & -1 & 1 & -1 \\end{pmatrix}\n",
    "\\end{equation}\n",
    "\n",
    "\\begin{equation}\n",
    "b = \\begin{pmatrix} 5 \\\\ 9 \\\\ -2 \\end{pmatrix}\n",
    "\\end{equation}\n",
    "\n",
    "To solve the above linear program, let's put it in the simplex code from the lecture.\n"
   ]
  },
  {
   "cell_type": "code",
   "execution_count": 92,
   "metadata": {},
   "outputs": [
    {
     "data": {
      "text/plain": [
       "(Inf, nothing, nothing)"
      ]
     },
     "execution_count": 92,
     "metadata": {},
     "output_type": "execute_result"
    }
   ],
   "source": [
    "c = [-1.0; 1.0; 0.0; 1.0; -1.0]; #Wikipedia example\n",
    "A = [-1.0 0.0 0.0 -1.0 1.0; 0.0 -1.0 0.0 1.0 -1.0; -1.0 1.0 -1.0 1.0 -1.0];\n",
    "b = [ 5.0; 9.0; -2.0];\n",
    "A = sparse(A);\n",
    "tol = 1e-5;\n",
    "(cost, B, xB) = simplex_program(A, b, c, tol)"
   ]
  },
  {
   "cell_type": "markdown",
   "metadata": {},
   "source": [
    "There is no solution, i.e. the minimum occurs at $\\infty$ for canonical representation and hence, there is no solution for the objective. \n",
    "This can easily be observed, if we rewrite the constraints from the original linear program in terms of $x_2$.\n",
    "\n",
    "$x_1 = 5 + x_2 \\leq 0$\n",
    "$\\implies x_2 \\leq -5$\n",
    "\n",
    "$x_3 = x_2 - 7 \\geq 2$\n",
    "$\\implies x_2 \\geq 9$\n",
    "\n",
    "Clearly, no $x_2$ can satisfy the constraints and hence, the linear program has no solution at all."
   ]
  },
  {
   "cell_type": "markdown",
   "metadata": {},
   "source": [
    "## Problem 7\n",
    "\n",
    "Consider the following constraints, where feasible region R is unbounded:\n",
    "\n",
    "$x_1 \\geq 0, $\n",
    "\n",
    "$x_2 \\geq 0. $\n",
    "\n",
    "In this problem, there are two unknowns, and two constraints. \n",
    "Since there are only two variables, we can solve this problem by graphing the set\n",
    "of points in the plane that satisfies all the constraints (called the constraint set) and\n",
    "then, finding which point of this set minimizes the value of the objective function. Each\n",
    "inequality constraint is satisfied by a half-plane of points, and the constraint set is the\n",
    "intersection of all the half-planes. In the present example, the constraint set **R** is the right-sided two cornered\n",
    "unbounded figure shaded with red in following Figure."
   ]
  },
  {
   "cell_type": "code",
   "execution_count": 83,
   "metadata": {},
   "outputs": [
    {
     "data": {
      "text/html": [
       "<img src=\"data:image/png;base64,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\" />"
      ]
     },
     "execution_count": 83,
     "metadata": {},
     "output_type": "execute_result"
    }
   ],
   "source": [
    "using ImplicitEquations, Plots\n",
    "pyplot()\n",
    "f(x,y) = x\n",
    "h(x,y) = y\n",
    "l = 4\n",
    "plot(Ge(f,0) & Ge(h,0), xlab = \"x1\", ylab = \"x2\", xlims=(-l, l), ylims=(-l, l), fill = (0, 0.5, :red), xticks = -l:1.0:l, yticks = -l:1.0:l)"
   ]
  },
  {
   "cell_type": "markdown",
   "metadata": {},
   "source": [
    "Now, consider the objective $x_1 + x_2$ i.e. $c = [1,1]$.\n",
    "Clearly, the objective $c^{*}x$ is bounded below on *R*.\n",
    "The minimum occurs, when $x_1 + x_2 = 0$ at (0,0), which is plotted next."
   ]
  },
  {
   "cell_type": "code",
   "execution_count": 85,
   "metadata": {},
   "outputs": [
    {
     "data": {
      "text/html": [
       "<img src=\"data:image/png;base64,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\" />"
      ]
     },
     "execution_count": 85,
     "metadata": {},
     "output_type": "execute_result"
    }
   ],
   "source": [
    "using ImplicitEquations, Plots\n",
    "pyplot()\n",
    "f(x,y) = x\n",
    "h(x,y) = y\n",
    "l = 4\n",
    "plot(Ge(f,0) & Ge(h,0), xlab = \"x1\", ylab = \"x2\", xlims=(-l, l), ylims=(-l, l), fill = (0, 0.5, :red), xticks = -l:1.0:l, yticks = -l:1.0:l)\n",
    "soln(x,y) = x + y\n",
    "plot!(Eq(soln,0), xlims=(-l, l), ylims=(-l, l))"
   ]
  },
  {
   "cell_type": "markdown",
   "metadata": {},
   "source": [
    "Now, consider the objective $x_1 - x_2$ i.e. $c = [1,-1]$.\n",
    "Clearly, the objective $c^{*}x$ is unbounded below on *R*.\n",
    "The minimum occurs, when $x_1 - x_2 = -\\infty $ at $(0,\\infty)$."
   ]
  }
 ],
 "metadata": {
  "kernelspec": {
   "display_name": "Julia 0.6.0",
   "language": "julia",
   "name": "julia-0.6"
  },
  "language_info": {
   "file_extension": ".jl",
   "mimetype": "application/julia",
   "name": "julia",
   "version": "0.6.0"
  }
 },
 "nbformat": 4,
 "nbformat_minor": 2
}
