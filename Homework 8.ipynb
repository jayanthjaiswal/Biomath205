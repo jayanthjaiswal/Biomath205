{
 "cells": [
  {
   "cell_type": "markdown",
   "metadata": {},
   "source": [
    "# Chapter 9\n",
    "\n",
    "## Problem 1\n",
    "\n",
    "Rewrite and test either the k-means or k nearest neighbors algorithm with $l_1$ distances substituted for $l_2$ distances."
   ]
  },
  {
   "cell_type": "markdown",
   "metadata": {},
   "source": [
    "Soln:\n",
    "\n",
    "In this solution, we will implement k nearest neighbors algorithm with with $l_1$ distances substituted for $l_2$ distances. To change $l_2$, Euclidean to $l_1$ distance, we use the Cityblock\tdistance from Distances.jl in the code of KNN, provided in the book."
   ]
  },
  {
   "cell_type": "code",
   "execution_count": 9,
   "metadata": {},
   "outputs": [
    {
     "data": {
      "text/plain": [
       "knn_euclidean (generic function with 1 method)"
      ]
     },
     "execution_count": 9,
     "metadata": {},
     "output_type": "execute_result"
    }
   ],
   "source": [
    "function knn_euclidean(X::Matrix{T}, Y::Matrix{T}, class::Vector{Int}, k::Int) where T <: Real\n",
    "    testing = size(X, 2)\n",
    "    predicted_class = zeros(Int, testing)\n",
    "    distance = pairwise(Euclidean(), Y, X) #Using l-2 Eucleadian\n",
    "    for i = 1:testing\n",
    "        perm = selectperm(distance[:, i], 1:k) # k nearest neighbors\n",
    "        predicted_class[i] = mode(class[perm]) # most common class\n",
    "    end\n",
    "    return predicted_class\n",
    "end"
   ]
  },
  {
   "cell_type": "code",
   "execution_count": 10,
   "metadata": {},
   "outputs": [
    {
     "data": {
      "text/plain": [
       "knn_cityblock (generic function with 1 method)"
      ]
     },
     "execution_count": 10,
     "metadata": {},
     "output_type": "execute_result"
    }
   ],
   "source": [
    "function knn_cityblock(X::Matrix{T}, Y::Matrix{T}, class::Vector{Int}, k::Int) where T <: Real\n",
    "    testing = size(X, 2)\n",
    "    predicted_class = zeros(Int, testing)\n",
    "    distance = pairwise(Cityblock(), Y, X) #Using l-1 cityblock instead of Eucleadian\n",
    "    for i = 1:testing\n",
    "        perm = selectperm(distance[:, i], 1:k) # k nearest neighbors\n",
    "        predicted_class[i] = mode(class[perm]) # most common class\n",
    "    end\n",
    "    return predicted_class\n",
    "end"
   ]
  },
  {
   "cell_type": "markdown",
   "metadata": {},
   "source": [
    "Lets compare the both methods of classification on randomly generated data and their classes."
   ]
  },
  {
   "cell_type": "code",
   "execution_count": 11,
   "metadata": {},
   "outputs": [
    {
     "name": "stdout",
     "output_type": "stream",
     "text": [
      " classification mismatch = 1\n"
     ]
    }
   ],
   "source": [
    "using Distances, StatsBase;\n",
    "(training, testing, features) = (100, 10, 30);\n",
    "X = randn(features, testing);\n",
    "Y = randn(features, training);\n",
    "(k, classes) = (3, 2);\n",
    "class = rand(1:classes, training);\n",
    "predicted_class_euclidean = knn_euclidean(X, Y, class, k);\n",
    "predicted_class_cityblock = knn_cityblock(X, Y, class, k);\n",
    "errors = countnz(predicted_class_cityblock - predicted_class_euclidean);\n",
    "println(\" classification mismatch = \", errors)"
   ]
  },
  {
   "cell_type": "markdown",
   "metadata": {},
   "source": [
    "Lets compare the both methods of classification on iris dataset for training data as top 130 rows and testing data as last remaining 20 rows after shuffling. The classification errors on the testing set (20 points) points are almost same."
   ]
  },
  {
   "cell_type": "code",
   "execution_count": 12,
   "metadata": {},
   "outputs": [
    {
     "name": "stdout",
     "output_type": "stream",
     "text": [
      " classification errors of knn_euclidean= 2\n",
      " classification errors of knn_cityblock= 2\n"
     ]
    }
   ],
   "source": [
    "using RDatasets,Distances, StatsBase;\n",
    "srand(1234)\n",
    "iris = dataset(\"datasets\", \"iris\")\n",
    "(m,n) = size(iris);\n",
    "dc = Dict(\"setosa\"=> 1, \"versicolor\"=> 2, \"virginica\"=> 3); \n",
    "function categorise_species(x::String)  \n",
    "    return dc[x];        \n",
    "end\n",
    "Data = convert(Array, iris[:,1:4]);\n",
    "classData =  convert(Array,map(categorise_species,iris[:Species]))\n",
    "shuffleperm = shuffle(1:m);\n",
    "Data = Data[shuffleperm,:];\n",
    "classData = classData[shuffleperm,:];\n",
    "training = transpose(Data[1:130, :])\n",
    "testing = transpose(Data[131:150, :]);\n",
    "classTraining = vec(classData[1:130, :]);\n",
    "classTesting = vec(classData[131:150, :]);\n",
    "predicted_class_euclidean = knn_euclidean(testing, training, classTraining, k);\n",
    "predicted_class_cityblock = knn_euclidean(testing, training, classTraining, k);\n",
    "ea = countnz(predicted_class_euclidean - classTesting);\n",
    "ca = countnz(predicted_class_cityblock - classTesting);\n",
    "println(\" classification errors of knn_euclidean= \", ea);\n",
    "println(\" classification errors of knn_cityblock= \", ca)"
   ]
  },
  {
   "cell_type": "markdown",
   "metadata": {},
   "source": [
    "## Problem 5\n",
    "\n",
    "Describe and program a naive Bayes classi\f",
    "cation algorithm for Gaussian distributed features. Assume that the features are independently distributed."
   ]
  },
  {
   "cell_type": "markdown",
   "metadata": {},
   "source": [
    "Soln:\n",
    "\n",
    "Using Bayes rule, we have:\n",
    "\n",
    "$P(Y=y_k | X_1,X_2,...,X_n) = \\frac{P(Y=y_k,X_1,X_2,...,X_n)}{\\sum_{j}{P(Y=y_j,X_1,X_2,...,X_n)}}$\n",
    "\n",
    "$\\implies P(Y=y_k | X_1,X_2,...,X_n) = \\frac{P(X_1,X_2,...,X_n | Y=y_k) P(Y=y_k)}{\\sum_{j}{P(X_1,X_2,...,X_n|Y=y_j)P(Y=y_j)}}$\n",
    "\n",
    "Assuming that the features are independently distributed given the class label, we can further simplify as:\n",
    "\n",
    "$\\implies P(Y=y_k | X_1,X_2,...,X_n) = \\frac{P(Y=y_k)\\prod_i{P(X_i| Y=y_k)}}{\\sum_{j}{(P(Y=y_j)\\prod_i{P(X_i| Y=y_j)})}}$\n",
    "\n",
    "The class probability $\\pi_k = Pr(Y = y_k)$ is typically estimated as the fraction of training cases falling in class $y_k$. In Gaussian Naive Bayes, the components $X_i$ of a feature vector $X$ are real values, which are assumed to follow Gaussian distribution given the class label, i.e.\n",
    "\n",
    "$ X_i | Y=y_k \\sim \\mathcal{N}(\\mu_{ik},\\sigma_{ik})$\n",
    "\n",
    "$\\implies P(X_i = x| Y=y_k) = \\frac{1}{\\sqrt{2\\pi\\sigma_{ik}^{2}}}e^{-\\frac{1}{2}(\\frac{x-\\mu_{ik}}{\\sigma_{ik}})^2}$\n",
    "\n",
    "And, the Gaussian Naive Bayes training algorithm is for each class label value $y_k$, estimate priors, $\\pi_k = Pr(Y = y_k)$ and for each attribute $X_i$ estimate class conditional mean $\\mu_{ik}$ and variance $\\sigma_{ik}^2$.\n",
    "\n",
    "The maximum likelihood estimates for the class conditional mean $\\mu_{ik}$ and variance $\\sigma_{ik}$ are:\n",
    "\n",
    "$\\hat{\\mu_{ik}} = \\frac{\\sum_j{X_i^j\\delta(Y^j=y_k)}}{\\sum_j{\\delta(Y^j=y_k)}} $\n",
    "\n",
    "$\\hat{\\sigma_{ik}^2} = \\frac{\\sum_j{(X_i^j - \\hat{\\mu_{ik}})^2\\delta(Y^j=y_k)}}{\\sum_j{\\delta(Y^j=y_k)}}$\n",
    "\n",
    "Hence, the class conditional mean $\\mu_{ik}$ is the average of all the ith feature values of X, if its class label is $y_k$. Similary, the class conditional variance $\\sigma_{ik}^2$ is the variance of all the ith feature values of X, if its class label is $y_k$.\n",
    "The following function estimate does the training and learning of the these parameters and returns the prior $\\pi_k$, class conditional mean $\\mu_{ik}$ and class conditional standard deviation $\\sigma_{ik}$.\n",
    "We are calculating running mean as well as running variance to avoid and reduce numerical overflow like [here](https://dsp.stackexchange.com/questions/811/determining-the-mean-and-standard-deviation-in-real-time)."
   ]
  },
  {
   "cell_type": "code",
   "execution_count": 96,
   "metadata": {},
   "outputs": [
    {
     "data": {
      "text/plain": [
       "estimate (generic function with 2 methods)"
      ]
     },
     "execution_count": 96,
     "metadata": {},
     "output_type": "execute_result"
    }
   ],
   "source": [
    "function estimate(X::Matrix{Float64}, class::Vector{Int}, classes::Int)\n",
    "    (cases, features) = size(X) # X[i, j] = count of feature j\n",
    "    mu = zeros(Float64, features, classes)\n",
    "    sigma_sq = zeros(Float64, features, classes)\n",
    "    prior = zeros(classes)\n",
    "    for j = 1:cases\n",
    "        k = class[j]\n",
    "        prev_freq = prior[k]\n",
    "        prior[k] = prior[k] + 1.0\n",
    "        for i = 1:features\n",
    "            prev_mu = mu[i, k]\n",
    "            mu[i, k] = mu[i,k] + ((X[j, i] - mu[i,k])/prior[k]) #running mean\n",
    "            sigma_sq[i, k] = ((prev_freq*sigma_sq[i, k]) + (X[j, i] - prev_mu)*(X[j, i] - mu[i,k]))/prior[k] #running variance\n",
    "        end\n",
    "    end\n",
    "    prior = prior / sum(prior)\n",
    "    return (prior, mu, sqrt.(sigma_sq))\n",
    "end"
   ]
  },
  {
   "cell_type": "markdown",
   "metadata": {},
   "source": [
    "The next part of Gaussian Naive Bayes is to predict the class label for a test instance $X^{new}$.\n",
    "\n",
    "$Y^{new} \\to argmax_{y_k}{P(Y=y_k)\\prod_i{P(X_i^{new}| Y=y_k)}}$\n",
    "\n",
    "$\\implies Y^{new} \\to argmax_{y_k}{\\pi_k\\prod_i{\\mathcal{N}(X_i^{new},\\mu_{ik},\\sigma_{ik})}}$\n",
    "\n",
    "The denominator of Bayes rule is omitted in this reckoning because it does not depend on $y_k$ and is the normalizing term. The following function calculates the log of the R.H.S. of the above term and returns the prediction, which maximizes that logarithmic posterior."
   ]
  },
  {
   "cell_type": "code",
   "execution_count": 97,
   "metadata": {},
   "outputs": [
    {
     "data": {
      "text/plain": [
       "predict (generic function with 3 methods)"
      ]
     },
     "execution_count": 97,
     "metadata": {},
     "output_type": "execute_result"
    }
   ],
   "source": [
    "function predict(test_cases::Matrix{Float64}, prior::Vector{T}, mu::Matrix{T}, sigma::Matrix{T}) where T <: Real\n",
    "    cases = size(test_cases, 1)\n",
    "    features = size(test_cases, 2)\n",
    "    prediction = zeros(cases)\n",
    "    for i = 1:cases\n",
    "        ln_posterior = log.(prior)\n",
    "        for j = 1:features\n",
    "            ln_posterior = ln_posterior + logpdf.(Normal.(mu[j, :], sigma[j, :]),test_cases[i,j])\n",
    "        end \n",
    "        prediction[i] = indmax(ln_posterior)\n",
    "    end\n",
    "    return prediction\n",
    "end"
   ]
  },
  {
   "cell_type": "markdown",
   "metadata": {},
   "source": [
    "Lets check the functions for Gaussian Naive Bayes classification on randomly generated data and their classes."
   ]
  },
  {
   "cell_type": "code",
   "execution_count": 98,
   "metadata": {},
   "outputs": [
    {
     "data": {
      "text/plain": [
       "2-element Array{Float64,1}:\n",
       " 2.0\n",
       " 2.0"
      ]
     },
     "execution_count": 98,
     "metadata": {},
     "output_type": "execute_result"
    }
   ],
   "source": [
    "using Distributions\n",
    "(features, cases, classes) = (4, 100, 2);\n",
    "X = rand(cases, features); # training data\n",
    "class = rand(1:classes, cases); # classes of training data\n",
    "(prior, mu, sigma) = estimate(X, class, classes);\n",
    "test_case = rand(2,features); # test data\n",
    "test_class = predict(test_case, prior, mu, sigma)"
   ]
  },
  {
   "cell_type": "markdown",
   "metadata": {},
   "source": [
    "Lets compare the Gaussian Naive Bayes classification on iris dataset for training data as top 130 rows and testing data as last remaining 20 rows after shuffling. The classification errors on the testing set (20 points) is less than K-Nearest Neighbours methods."
   ]
  },
  {
   "cell_type": "code",
   "execution_count": 111,
   "metadata": {},
   "outputs": [
    {
     "name": "stdout",
     "output_type": "stream",
     "text": [
      "Classification errors of Gaussian Naive Bayes = 1\n",
      "Accuracy: 0.05\n"
     ]
    }
   ],
   "source": [
    "using RDatasets, Distances, StatsBase, Distributions;\n",
    "srand(1234)\n",
    "iris = dataset(\"datasets\", \"iris\")\n",
    "(m,n) = size(iris);\n",
    "dc = Dict(\"setosa\"=> 1, \"versicolor\"=> 2, \"virginica\"=> 3); \n",
    "function categorise_species(x::String)  \n",
    "    return dc[x];        \n",
    "end\n",
    "Data = convert(Array, iris[:,1:4]);\n",
    "classData =  convert(Array,map(categorise_species,iris[:Species]))\n",
    "shuffleperm = shuffle(1:m);\n",
    "Data = Data[shuffleperm,:];\n",
    "classData = classData[shuffleperm,:];\n",
    "training = Data[1:130, :]\n",
    "testing = Data[131:150, :];\n",
    "classTraining = vec(classData[1:130, :]);\n",
    "classTesting = vec(classData[131:150, :]);\n",
    "(prior, mu, sigma) = estimate(training, classTraining, 3);\n",
    "predicted_class_NB = predict(testing, prior, mu, sigma);\n",
    "eg = countnz(predicted_class_NB - classTesting);\n",
    "accuracy = countnz(predicted_class_NB - classTesting) / countnz(classTesting)\n",
    "println(\"Classification errors of Gaussian Naive Bayes = \", eg);\n",
    "println(\"Accuracy: $accuracy\");"
   ]
  },
  {
   "cell_type": "markdown",
   "metadata": {},
   "source": [
    "# Chapter 10\n",
    "\n",
    "## Problem 3\n",
    "\n",
    "Explicitly calculate the finite Fourier transforms of the sequences $c_j = 1,\n",
    "c_j = 1_{\\{0\\}}, c_j = (-1)^j$ , and $c_j = 1_{\\{0,1,2,...,\\frac{n}{2}-1\\}}$ defined on $\\{0,1,2,...,n-1\\}$.\n",
    "For the last two sequences assume that n is even."
   ]
  },
  {
   "cell_type": "markdown",
   "metadata": {},
   "source": [
    "Soln :\n",
    "\n",
    "Periodic sequences of complex numbers $\\{c_j\\}_{j=-\\infty}^{\\infty}$ of period n constitute the natural domain of the finite Fourier transform. The transform of such a sequence\n",
    "is defined by\n",
    "\n",
    "$\\hat{c_k} = \\frac{1}{n} \\sum_{j=0}^{n-1}c_je^{-2\\pi i \\frac{jk}{n}}$\n",
    "\n",
    "where $i = \\sqrt{-1}$ and $e^{is}$ is the exponential function with an imaginary argument. If we let $u_n = e^{2\\pi i/n}$,\n",
    "\n",
    "$\\implies \\hat{c_k} = \\frac{1}{n} \\sum_{j=0}^{n-1}c_ju_n^{-jk}$\n",
    "\n",
    "Note that, $u_n^0 = 1$ and $u_n^n = 1$."
   ]
  },
  {
   "cell_type": "markdown",
   "metadata": {},
   "source": [
    "a) $c_j = 1$\n",
    "\n",
    "The Finite Fourier Transform is calculated as,\n",
    "\n",
    "$\\hat{c_k} = \\frac{1}{n} \\sum_{j=0}^{n-1}c_ju_n^{-jk}$\n",
    "\n",
    "$\\implies \\hat{c_k} = \\frac{1}{n} \\sum_{j=0}^{n-1}u_n^{-jk}$\n",
    "\n",
    "For $k=0$, the terms in summation will all reduce to 1 as $u_n^{0} = 1$.\n",
    "\n",
    "$\\implies \\hat{c_0} = \\frac{1}{n} \\sum_{j=0}^{n-1}1 = 1$\n",
    "\n",
    "For $k \\ne 0$, the terms in summation form a Geometric series with first term as $u_n^{0} = 1$ and ratio as $u_n^{-k}$, whose sum of n terms is given like [this](https://en.wikipedia.org/wiki/Geometric_progression#Geometric_series).\n",
    "\n",
    "$\\implies \\hat{c_k} = \\frac{1}{n} \\sum_{j=0}^{n-1}u_n^{-jk}$\n",
    "\n",
    "$\\implies \\hat{c_k} = \\frac{1}{n} \\frac{1 - u_n^{-nk}}{1 - u_n^{-k}}$\n",
    "\n",
    "Note that, $u_n^0 = 1$ and $u_n^n = 1$. Hence, $u_n^{-nk} = 1$.\n",
    "\n",
    "$\\implies \\hat{c_k} = \\frac{1}{n} \\frac{1 - 1}{1 - u_n^{-k}}  =0 $\n",
    "\n",
    "Hence, the sequence $c_j = 1$ on $\\{0,1,2,...,n-1\\}$ has finite Fourier transform:\n",
    "\n",
    "\\begin{equation*}\n",
    "\\hat{c_k} = \\begin{cases}\n",
    "1 &\\text{$k=0$}\\\\\n",
    "0 &\\text{$k \\ne 0$}\n",
    "\\end{cases}\n",
    "\\end{equation*}"
   ]
  },
  {
   "cell_type": "markdown",
   "metadata": {},
   "source": [
    "b) $c_j = 1_{\\{0\\}}$\n",
    "\n",
    "This sequence $c_j = 1_{\\{0\\}}$ on $\\{0,1,2,...,n-1\\}$ represents the following:\n",
    "\n",
    "\\begin{equation*}\n",
    "c_j = \\begin{cases}\n",
    "1 &\\text{$k=0$}\\\\\n",
    "0 &\\text{$k \\ne 0$}\n",
    "\\end{cases}\n",
    "\\end{equation*}\n",
    "\n",
    "The Finite Fourier Transformation is calculated as,\n",
    "\n",
    "$\\hat{c_k} = \\frac{1}{n} \\sum_{j=0}^{n-1}c_ju_n^{-jk}$\n",
    "\n",
    "$\\implies \\hat{c_k} = \\frac{1}{n} u_n^{0}$\n",
    "\n",
    "Note that, $u_n^0 = 1$.\n",
    "\n",
    "$\\implies \\hat{c_k} = \\frac{1}{n}$\n",
    "\n",
    "Hence, the sequence $c_j = 1_{\\{0\\}}$ on $\\{0,1,2,...,n-1\\}$ has finite Fourier transform:\n",
    "\n",
    "\\begin{equation*}\n",
    "\\hat{c_k} = \\begin{cases}\n",
    "\\frac{1}{n} &\\text{$\\forall k$}\n",
    "\\end{cases}\n",
    "\\end{equation*}"
   ]
  },
  {
   "cell_type": "markdown",
   "metadata": {},
   "source": [
    "c) $c_j = (-1)^j$\n",
    "\n",
    "The Finite Fourier Transform is calculated as,\n",
    "\n",
    "$\\hat{c_k} = \\frac{1}{n} \\sum_{j=0}^{n-1}c_ju_n^{-jk}$\n",
    "\n",
    "$\\implies \\hat{c_k} = \\frac{1}{n} \\sum_{j=0}^{n-1}(-1)^ju_n^{-jk} = \\frac{1}{n} \\sum_{j=0}^{n-1}(-u_n^{-k})^{j}$\n",
    "\n",
    "For $k \\ne \\frac{n}{2}$, the terms in summation form a Geometric series with first term as $(-1)^0u_n^{0} = 1$ and ratio as $-u_n^{-k}$, whose sum of n terms is given like [this](https://en.wikipedia.org/wiki/Geometric_progression#Geometric_series).\n",
    "\n",
    "$\\implies \\hat{c_k} = \\frac{1}{n} \\sum_{j=0}^{n-1}(-u_n^{-k})^{j}$\n",
    "\n",
    "$\\implies \\hat{c_k} = \\frac{1}{n} \\frac{1 - (-u_n^{-k})^n}{1 - (-u_n^{-k})}$\n",
    "\n",
    "Note that, $u_n^0 = 1$ and $u_n^n = 1$. Hence, $u_n^{-nk} = 1$.\n",
    "\n",
    "$\\implies \\hat{c_k} = \\frac{1}{n} \\frac{1 - (-1)^n}{1 + u_n^{-k}}$\n",
    "\n",
    "Given, n is even. Hence, $(-1)^{n} = 1$.\n",
    "\n",
    "$\\implies \\hat{c_k} = \\frac{1}{n} \\frac{1 - 1}{1 + u_n^{-k}}  =0 $\n",
    "\n",
    "For $k=\\frac{n}{2}$, the Geometric sum can't be applied as the denominator of the sum $1 + u_n^{-\\frac{n}{2}}$ is 0 since $u_n^{-\\frac{n}{2}} = e^{-\\pi i} = -1$. \n",
    "So, calculating explicitly, \n",
    "\n",
    "$\\hat{c_{\\frac{n}{2}}} = \\frac{1}{n} \\sum_{j=0}^{n-1}(-1)^ju_n^{-j\\frac{n}{2}}$\n",
    "\n",
    "$\\implies \\hat{c_{\\frac{n}{2}}} = \\frac{1}{n} \\sum_{j=0}^{n-1}(-u_n^{-\\frac{n}{2}})^{j}$\n",
    "\n",
    "The terms in summation will all reduce to $1$ as $-u_n^{-\\frac{n}{2}} = -e^{-\\pi i} = -(-1) = 1$.\n",
    "\n",
    "$\\implies \\hat{c_{\\frac{n}{2}}} = \\frac{1}{n} \\sum_{j=0}^{n-1}(1)^j = 1$\n",
    "\n",
    "Hence, the sequence $c_j = 1$ on $\\{0,1,2,...,n-1\\}$ has finite Fourier transform:\n",
    "\n",
    "\\begin{equation*}\n",
    "\\hat{c_k} = \\begin{cases}\n",
    "1 &\\text{$k=\\frac{n}{2}$}\\\\\n",
    "0 &\\text{$k \\ne \\frac{n}{2}$}\n",
    "\\end{cases}\n",
    "\\end{equation*}"
   ]
  },
  {
   "cell_type": "markdown",
   "metadata": {},
   "source": [
    "d) $c_j = 1_{\\{0,1,2,...,\\frac{n}{2}-1\\}}$\n",
    "\n",
    "This sequence $c_j = 1_{\\{0,1,2,...,\\frac{n}{2}-1\\}}$ on $\\{0,1,2,...,n-1\\}$ represents the following:\n",
    "\n",
    "\\begin{equation*}\n",
    "c_j = \\begin{cases}\n",
    "1 &\\text{$k < \\frac{n}{2}$}\\\\\n",
    "0 &\\text{$k \\geq \\frac{n}{2}$}\n",
    "\\end{cases}\n",
    "\\end{equation*}\n",
    "\n",
    "Given, n is even. Without loss of generality, let $l=\\frac{n}{2}$.\n",
    "The Finite Fourier Transformation is calculated as,\n",
    "\n",
    "$\\hat{c_k} = \\frac{1}{n} \\sum_{j=0}^{n-1}c_ju_n^{-jk}$\n",
    "\n",
    "$\\implies \\hat{c_k} = \\frac{1}{n} \\sum_{j=0}^{2l-1}c_ju_n^{-jk} = \\frac{1}{n} \\sum_{j=0}^{l-1}u_n^{-jk}$\n",
    "\n",
    "For $k=0$, the terms in summation will all reduce to 1 as $u_n^{0} = 1$.\n",
    "\n",
    "$\\implies \\hat{c_0} = \\frac{1}{n} \\sum_{j=0}^{l-1}1 = \\frac{l}{n} = \\frac{1}{2}$\n",
    "\n",
    "For $k \\ne 0$, the terms in summation form a Geometric series with first term as $u_n^{0} = 1$ and ratio as $u_n^{-k}$, whose sum of l terms is given like [this](https://en.wikipedia.org/wiki/Geometric_progression#Geometric_series).\n",
    "\n",
    "$\\implies \\hat{c_k} = \\frac{1}{n} \\sum_{j=0}^{l-1}u_n^{-jk}$\n",
    "\n",
    "$\\implies \\hat{c_k} = \\frac{1}{n} \\frac{1 - u_n^{-lk}}{1 - u_n^{-k}}$\n",
    "\n",
    "Note that, $u_n^0 = 1$ and $u_n^n = 1$ and $u_n^{-l} = u_n^{-\\frac{n}{2}} = e^{-\\pi i} = -1$. Hence, $u_n^{-lk} = (-1)^k$.\n",
    "\n",
    "$\\implies \\hat{c_k} = \\frac{1}{n} \\frac{1 - (-1)^k}{1 - u_n^{-k}}$\n",
    "\n",
    "For $k \\ne 0$ and k is even, $(-1)^k=1$,\n",
    "\n",
    "$\\implies \\hat{c_k} = \\frac{1}{n} \\frac{1 - 1}{1 - u_n^{-k}}  =0 $\n",
    "\n",
    "For $k \\ne 0$ and k is odd, $(-1)^k=-1$,\n",
    "\n",
    "$\\implies \\hat{c_k} = \\frac{1}{n} \\frac{1 + 1}{1 - u_n^{-k}}  = \\frac{2}{n} \\frac{1 - u_n^{k}}{(1 - u_n^{k})(1 - u_n^{-k})} $\n",
    "\n",
    "Since, $(1 - u_n^{k})(1 - u_n^{-k}) = 1 + 1 - u_n^{k} - u_n^{-k} = 2(1 - \\cos(\\frac{2\\pi k}{n}))$ as $u_n^{k} = e^{\\frac{2\\pi i k}{n}} = \\cos(\\frac{2\\pi k}{n}) + i\\sin(\\frac{2\\pi k}{n})$.\n",
    "\n",
    "$\\implies \\hat{c_k} = \\frac{2}{n} \\frac{1 - u_n^{k}}{ (2 - u_n^{k} - u_n^{-k})} = \\frac{1}{n} \\frac{1 - \\cos(\\frac{2\\pi k}{n}) - i\\sin(\\frac{2\\pi k}{n})}{1 - \\cos(\\frac{2\\pi k}{n})}$\n",
    "\n",
    "Since, $\\sin(2\\theta) = 2\\sin(\\theta)\\cos(\\theta)$ and $\\cos(2\\theta) = 1 - 2\\sin^2(\\theta)$. \n",
    "Hence, $\\sin(\\frac{2\\pi k}{n}) = 2\\sin(\\frac{\\pi k}{n})\\cos(\\frac{\\pi k}{n})$ and $1 - \\cos(\\frac{2\\pi k}{n}) = 2\\sin^2(\\frac{\\pi k}{n})$.\n",
    "\n",
    "$\\implies \\hat{c_k} = \\frac{1}{n} ( 1 - i\\frac{\\sin(\\frac{2\\pi k}{n})}{1 - \\cos(\\frac{2\\pi k}{n})}) = \\frac{1}{n} ( 1 - i\\frac{\\cos(\\frac{\\pi k}{n})}{\\sin(\\frac{\\pi k}{n})}) $\n",
    "\n",
    "$\\implies \\hat{c_k} = \\frac{1}{n} ( 1 - i\\cot(\\frac{\\pi k}{n})) $\n",
    "\n",
    "Hence, the sequence $c_j = 1_{\\{0,1,2,...,\\frac{n}{2}-1\\}}$ on $\\{0,1,2,...,n-1\\}$ has finite Fourier transform:\n",
    "\n",
    "\\begin{equation*}\n",
    "\\hat{c_k} = \\begin{cases}\n",
    "\\frac{1}{2} &\\text{$k=0$}\\\\\n",
    "0 &\\text{$k \\ne 0$ and k is even}\\\\\n",
    "\\frac{1}{n} ( 1 - i\\cot(\\frac{k\\pi}{n})) &\\text{$k \\ne 0$ and k is odd}\\\\\n",
    "\\end{cases}\n",
    "\\end{equation*}"
   ]
  },
  {
   "cell_type": "markdown",
   "metadata": {},
   "source": [
    "## Problem 4\n",
    "\n",
    "Show that the sequence $c_j = j$ on $\\{0,1,2,...,n-1\\}$ has finite Fourier\n",
    "transform\n",
    "\n",
    "\\begin{equation*}\n",
    "\\hat{c_k} = \\begin{cases}\n",
    "\\frac{n-1}{2} &\\text{$k=0$}\\\\\n",
    "-\\frac{1}{2} + \\frac{i}{2}\\cot(\\frac{k\\pi}{n}) &\\text{$k \\ne 0$}\n",
    "\\end{cases}\n",
    "\\end{equation*}"
   ]
  },
  {
   "cell_type": "markdown",
   "metadata": {},
   "source": [
    "Given $c_j = j$ on $\\{0,1,2,...,n-1\\}$,\n",
    "\n",
    "the Finite Fourier Transformation is calculated as,\n",
    "\n",
    "$\\hat{c_k} = \\frac{1}{n} \\sum_{j=0}^{n-1}c_ju_n^{-jk}$\n",
    "\n",
    "$\\implies \\hat{c_k} = \\frac{1}{n} \\sum_{j=0}^{n-1}ju_n^{-jk}$\n",
    "\n",
    "For $k=0$, the terms in summation will all reduce to j as $u_n^{0} = 1$.\n",
    "\n",
    "$\\implies \\hat{c_0} = \\frac{1}{n} \\sum_{j=0}^{n-1}j = \\frac{1}{n}\\frac{n(n-1)}{2}$\n",
    "\n",
    "$\\implies \\hat{c_0} = \\frac{n-1}{2}$\n",
    "\n",
    "For $k \\ne 0$, the terms in summation form a Arithmetic Geometric series with first term as $0*u_n^{0} = 0$, difference as $1$ and ratio as $u_n^{-k}$ and generic terms as $ju_n^{-jk}$, whose sum of n terms is given like [this](https://en.wikipedia.org/wiki/Arithmetico%E2%80%93geometric_sequence).\n",
    "\n",
    "$\\implies \\hat{c_k} = \\frac{1}{n} \\sum_{j=0}^{n-1}ju_n^{-jk}$\n",
    "\n",
    "Multiplying by ratio, $u_n^{-k}$ on both sides,\n",
    "\n",
    "$\\implies \\hat{c_k}u_n^{-k} = \\frac{1}{n} \\sum_{j=0}^{n-1}ju_n^{-(j+1)k} = \\frac{1}{n} \\sum_{j=1}^{n}(j-1)u_n^{-jk}$\n",
    "\n",
    "Taking the difference with previous summation,\n",
    "\n",
    "$\\implies (1-u_n^{-k})\\hat{c_k} = \\frac{1}{n} (\\sum_{j=1}^{n-1}u_n^{-jk} - (n-1)u_n^{-nk})$\n",
    "\n",
    "By Sum of Geometric Series as done in 4 a) above,\n",
    "\n",
    "$\\implies (1-u_n^{-k})\\hat{c_k} = \\frac{1}{n} (\\frac{u_n^{-k} - u_n^{-nk}}{1 - u_n^{-k}} - (n-1)u_n^{-nk})$\n",
    "\n",
    "$\\implies \\hat{c_k} = \\frac{1}{n} (\\frac{u_n^{-nk} - nu_n^{-nk}}{1 - u_n^{-k}} + \\frac{u_n^{-k} - u_n^{-nk}}{(1 - u_n^{-k})^2})$\n",
    "\n",
    "Note that, $u_n^0 = 1$ and $u_n^n = 1$. Hence, $u_n^{-nk} = 1$.\n",
    "\n",
    "$\\implies \\hat{c_k} = \\frac{1}{n} (\\frac{1 - n}{1 - u_n^{-k}} + \\frac{u_n^{-k} - 1}{(1 - u_n^{-k})^2})\n",
    "= \\frac{1}{n} (\\frac{n - 1}{u_n^{-k} - 1} + \\frac{1}{u_n^{-k}-1})$\n",
    "\n",
    "$\\implies \\hat{c_k} = \\frac{1}{n} \\frac{n}{u_n^{-k} - 1}= \\frac{-1}{1 - u_n^{-k}}$\n",
    "\n",
    "Multiplying by the conjugate $1 - u_n^{k}$ on both numerator and denominator,\n",
    "\n",
    "$\\implies \\hat{c_k} = -\\frac{1 - u_n^{k}}{(1 - u_n^{k})(1 - u_n^{-k})} $\n",
    "\n",
    "Since, $(1 - u_n^{k})(1 - u_n^{-k}) = 1 + 1 - u_n^{k} - u_n^{-k} = 2(1 - \\cos(\\frac{2\\pi k}{n}))$ as $u_n^{k} = e^{\\frac{2\\pi i k}{n}} = \\cos(\\frac{2\\pi k}{n}) + i\\sin(\\frac{2\\pi k}{n})$.\n",
    "\n",
    "$\\implies \\hat{c_k} = - \\frac{1 - u_n^{k}}{ (2 - u_n^{k} - u_n^{-k})} = - \\frac{1 - \\cos(\\frac{2\\pi k}{n}) - i\\sin(\\frac{2\\pi k}{n})}{2 - 2\\cos(\\frac{2\\pi k}{n})}$\n",
    "\n",
    "Since, $\\sin(2\\theta) = 2\\sin(\\theta)\\cos(\\theta)$ and $\\cos(2\\theta) = 1 - 2\\sin^2(\\theta)$. \n",
    "Hence, $\\sin(\\frac{2\\pi k}{n}) = 2\\sin(\\frac{\\pi k}{n})\\cos(\\frac{\\pi k}{n})$ and $1 - \\cos(\\frac{2\\pi k}{n}) = 2\\sin^2(\\frac{\\pi k}{n})$.\n",
    "\n",
    "$\\implies \\hat{c_k} = \\frac{-1}{2} ( 1 - i\\frac{\\sin(\\frac{2\\pi k}{n})}{1 - \\cos(\\frac{2\\pi k}{n})}) = \\frac{-1}{2} ( 1 - i\\frac{\\cos(\\frac{\\pi k}{n})}{\\sin(\\frac{\\pi k}{n})}) $\n",
    "\n",
    "$\\implies \\hat{c_k} = \\frac{-1}{2} ( 1 - i\\cot(\\frac{\\pi k}{n})) $\n",
    "\n",
    "$\\implies \\hat{c_k} = -\\frac{1}{2} + \\frac{i}{2}\\cot(\\frac{k\\pi}{n})$\n",
    "\n",
    "Hence, the sequence $c_j = j$ on $\\{0,1,2,...,n-1\\}$ has finite Fourier transform:\n",
    "\n",
    "\\begin{equation*}\n",
    "\\hat{c_k} = \\begin{cases}\n",
    "\\frac{n-1}{2} &\\text{$k=0$}\\\\\n",
    "-\\frac{1}{2} + \\frac{i}{2}\\cot(\\frac{k\\pi}{n}) &\\text{$k \\ne 0$}\n",
    "\\end{cases}\n",
    "\\end{equation*}\n",
    "\n",
    "$QED$."
   ]
  },
  {
   "cell_type": "markdown",
   "metadata": {},
   "source": [
    "## Problem 6\n",
    "\n",
    "Prove parts (b) and (c) of Proposition 10.2.1."
   ]
  },
  {
   "cell_type": "markdown",
   "metadata": {},
   "source": [
    "Soln:\n",
    "\n",
    "b) The finite Fourier transform satises the rule:\n",
    "\n",
    "$\\hat{T_rc_k} = u_{n}^{-kr}\\hat{c_k}$\n",
    "\n",
    "Proof:\n",
    "\n",
    "Given $c_j$, the Finite Fourier Transformation is calculated as,\n",
    "\n",
    "$\\hat{c_k} = \\frac{1}{n} \\sum_{j=0}^{n-1}c_ju_n^{-jk}$\n",
    "\n",
    "The translate of the periodic sequence $c_j$ by index r is the periodic sequence $T_rc_j$ defined by $T_rc_j = c_{j-r}$. Thus, the operator $T_r$ translates a sequence r places to the right.\n",
    "\n",
    "Given $T_rc_j$, the Finite Fourier Transformation is calculated as\n",
    "\n",
    "$\\hat{T_rc_k} = \\frac{1}{n} \\sum_{j=0}^{n-1}T_rc_ju_n^{-jk}$\n",
    "\n",
    "Since, $T_rc_j = c_{j-r}$, substituting in the above,\n",
    "\n",
    "$\\implies \\hat{T_rc_k} = \\frac{1}{n} \\sum_{j=0}^{n-1}c_{j-r}u_n^{-jk}$\n",
    "\n",
    "Let, $j-r = l$ and hence, $j = l+r$. Now, l varies from $-r$ to $n-1-r$.\n",
    "\n",
    "$\\implies \\hat{T_rc_k} = \\frac{1}{n} \\sum_{l=-r}^{n-1-r}c_{l}u_n^{-(l+r)k}$\n",
    "\n",
    "$\\implies \\hat{T_rc_k} = u_n^{-kr} \\frac{1}{n} \\sum_{l=-r}^{n-1-r}c_{l}u_n^{-lk}$\n",
    "\n",
    "$\\implies \\hat{T_rc_k} = u_n^{-kr} \\frac{1}{n}(\\sum_{l=-r}^{-1}c_{l}u_n^{-lk} + \\sum_{l=0}^{n-1-r}c_{l}u_n^{-lk})$\n",
    "\n",
    "Substitute, $m=n+l$ i.e. $l=m-n$ and $m$ varies from $n-r$ to $n-1$ in first part of summation.\n",
    "\n",
    "$\\implies \\hat{T_rc_k} = u_n^{-kr} \\frac{1}{n}(\\sum_{m=n-r}^{n-1}c_{m-n}u_n^{-(m-n)k} + \\sum_{l=0}^{n-1-r}c_{l}u_n^{-lk})$\n",
    "\n",
    "Since, $c_j$ is a periodic sequence with period n, $c_{m-n}=c_{m}$ and $u_n$ also has period n as $u_n^{m-n} = u_n^{m}$ since $u_n^{n} = e^{2\\pi i}=1$. \n",
    "\n",
    "$\\implies \\hat{T_rc_k} = u_n^{-kr} \\frac{1}{n}(\\sum_{m=n-r}^{n-1}c_{m}u_n^{-mk} + \\sum_{l=0}^{n-1-r}c_{l}u_n^{-lk})$\n",
    "\n",
    "Hence, $\\sum_{l=-r}^{n-1-r}c_{l}u_n^{-lk} = \\sum_{l=0}^{n-1}c_{l}u_n^{-lk}$.\n",
    "\n",
    "$\\implies \\hat{T_rc_k} = u_n^{-kr} \\frac{1}{n}\\sum_{l=0}^{n-1}c_{l}u_n^{-lk}$\n",
    "\n",
    "$\\implies \\hat{T_rc_k} = u_{n}^{-kr}\\hat{c_k}$\n",
    "\n",
    "$QED$."
   ]
  },
  {
   "cell_type": "markdown",
   "metadata": {},
   "source": [
    "c) The finite Fourier transform satises the rule:\n",
    "\n",
    "$\\hat{Rc_k} = R\\hat{c_k}$\n",
    "\n",
    "Proof:\n",
    "\n",
    "Given $c_j$, the Finite Fourier Transformation is calculated as,\n",
    "\n",
    "$\\hat{c_k} = \\frac{1}{n} \\sum_{j=0}^{n-1}c_ju_n^{-jk}$\n",
    "\n",
    "The reversion operator R takes a sequence $c_j$ into $Rc_j = c_{-j}$ .\n",
    "\n",
    "Given $Rc_j$, the Finite Fourier Transformation is calculated as\n",
    "\n",
    "$\\hat{Rc_k} = \\frac{1}{n} \\sum_{j=0}^{n-1}Rc_ju_n^{-jk}$\n",
    "\n",
    "Since, $Rc_j = c_{-j}$, substituting in the above,\n",
    "\n",
    "$\\implies \\hat{Rc_k} = \\frac{1}{n} \\sum_{j=0}^{n-1}c_{-j}u_n^{-jk}$\n",
    "\n",
    "Let, $j = -l$ and hence, $l = -j$. Now, l varies from $0$ to $-(n-1)$.\n",
    "\n",
    "$\\implies \\hat{Rc_k} = \\frac{1}{n} \\sum_{l=-(n-1)}^{0}c_{l}u_n^{lk}$\n",
    "\n",
    "Substitute, $m=n+l$, i.e. $l=m-n$ and hence, $m$ varies from $1$ to $n$ in the summation.\n",
    "\n",
    "$\\implies \\hat{Rc_k} = \\frac{1}{n} \\sum_{m=1}^{n}c_{m-n}u_n^{(m-n)k}$\n",
    "\n",
    "Since, $c_j$ is a periodic sequence with period n, $c_{m-n}=c_{m}$ and $u_n$ also has period n as $u_n^{m-n} = u_n^{m}$ since $u_n^{n} = e^{2\\pi i}=1$. \n",
    "\n",
    "$\\implies \\hat{Rc_k} = \\frac{1}{n} \\sum_{m=1}^{n}c_{m}u_n^{mk} = \\frac{1}{n} (\\sum_{m=1}^{n-1}c_{m}u_n^{mk} + c_{n}u_n^{nk})$\n",
    "\n",
    "Again, by periodicity $c_{n}=c_{0}$ and $u_n^{nk}=u_n^{nk}$,\n",
    "\n",
    "$\\implies \\hat{Rc_k} = \\frac{1}{n} (\\sum_{m=1}^{n-1}c_{m}u_n^{mk} + c_{0}u_n^{0k}) = \\frac{1}{n} \\sum_{m=0}^{n-1}c_{m}u_n^{mk}$\n",
    "\n",
    "$\\implies \\hat{Rc_k} = \\frac{1}{n} \\sum_{j=0}^{n-1}c_{j}u_n^{jk}$\n",
    "\n",
    "However, $\\frac{1}{n} \\sum_{j=0}^{n-1}c_{j}u_n^{jk} = \\hat{c_{-k}}$ by substituting $-k$ in DFT equation.\n",
    "\n",
    "Hence, $\\hat{Rc_k} = \\hat{c_{-k}}$.\n",
    "\n",
    "But $\\hat{c_{-k}} = R\\hat{c_{k}}$ as obtained by applying Reversion operator R on $\\hat{c_{k}}$.\n",
    "\n",
    "$\\implies \\hat{Rc_k} = \\hat{c_{-k}} = R\\hat{c_{k}}$\n",
    "\n",
    "$\\implies \\hat{Rc_k} = R\\hat{c_{k}}$\n",
    "\n",
    "$QED$."
   ]
  }
 ],
 "metadata": {
  "kernelspec": {
   "display_name": "Julia 0.6.0",
   "language": "julia",
   "name": "julia-0.6"
  },
  "language_info": {
   "file_extension": ".jl",
   "mimetype": "application/julia",
   "name": "julia",
   "version": "0.6.0"
  }
 },
 "nbformat": 4,
 "nbformat_minor": 2
}
